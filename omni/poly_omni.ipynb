{
 "cells": [
  {
   "cell_type": "markdown",
   "id": "e8c407d1-e877-461e-9bdc-cb84d232b1ec",
   "metadata": {},
   "source": [
    "# Conversion Matlab > Python du code dans le polycopié OMNI 2022-2023"
   ]
  },
  {
   "cell_type": "markdown",
   "id": "13c08c7c-d142-4fbf-a37c-942052ed00af",
   "metadata": {},
   "source": [
    "## Chapitre 2. Produits scalaire, vectoriel et mixte"
   ]
  },
  {
   "cell_type": "markdown",
   "id": "cce27b8b-aa3b-43da-b5eb-1e0d7cc65b21",
   "metadata": {},
   "source": [
    "### 2.6 Vecteurs sous Matlab® et GeoGebra®"
   ]
  },
  {
   "cell_type": "markdown",
   "id": "52829290-fc2f-4b6f-a352-22404ac3b849",
   "metadata": {},
   "source": [
    "Produit scalaire"
   ]
  },
  {
   "cell_type": "code",
   "execution_count": null,
   "id": "7c62c842-b541-448b-9c3f-362c26c8ffbf",
   "metadata": {},
   "outputs": [],
   "source": [
    "import numpy as np"
   ]
  },
  {
   "cell_type": "code",
   "execution_count": null,
   "id": "740da59b-daf7-45a5-abc9-301dc59218ad",
   "metadata": {},
   "outputs": [],
   "source": [
    "A = np.array([4, -1, 2])\n",
    "B = np.array([2, -2, -1])\n",
    "print(A @ B)"
   ]
  },
  {
   "cell_type": "markdown",
   "id": "a4bad3e4-5e92-4120-8635-69d2a6074e6c",
   "metadata": {},
   "source": [
    "Produit vectoriel"
   ]
  },
  {
   "cell_type": "code",
   "execution_count": null,
   "id": "6f68a9cd-0508-4af6-8663-5a68c152d2c0",
   "metadata": {},
   "outputs": [],
   "source": [
    "A = np.array([4, -1, 2])\n",
    "B = np.array([2, -2, -1])\n",
    "print(np.cross(A, B))"
   ]
  },
  {
   "cell_type": "markdown",
   "id": "db4f8c67-c039-405e-9165-205974171841",
   "metadata": {},
   "source": [
    "Norme"
   ]
  },
  {
   "cell_type": "code",
   "execution_count": null,
   "id": "1033a4ce-6321-4616-9ea0-d6b73d6bb037",
   "metadata": {},
   "outputs": [],
   "source": [
    "np.linalg.norm([4, -1, 2])"
   ]
  },
  {
   "cell_type": "markdown",
   "id": "53745528-0a4c-4dcd-b9f1-7b10e8344180",
   "metadata": {},
   "source": [
    "Tracés de vecteurs avec `numpy` et `matplotlib`"
   ]
  },
  {
   "cell_type": "code",
   "execution_count": null,
   "id": "86e208c7",
   "metadata": {},
   "outputs": [],
   "source": [
    "%matplotlib notebook"
   ]
  },
  {
   "cell_type": "code",
   "execution_count": null,
   "id": "818c73d3-8e4a-42d1-9159-9f21fb409757",
   "metadata": {},
   "outputs": [],
   "source": [
    "import numpy as np\n",
    "import matplotlib.pyplot as plt\n",
    "\n",
    "A = np.array([4, -1, 2]) # vecteur A\n",
    "B = np.array([2, -2, -1]) # veteur B\n",
    "C = np.cross(A, B) # vecteur C\n",
    "M = np.array([2, -2, 3]) # point M\n",
    "\n",
    "# création du graphe en 3D\n",
    "fig, ax = plt.subplots(figsize=(8,8), subplot_kw={'projection': '3d'})\n",
    "\n",
    "# valeur min et max pour nos axes\n",
    "limits = (-5, 10) \n",
    "ax.set_xlim(limits)\n",
    "ax.set_ylim(limits)\n",
    "ax.set_zlim(limits)\n",
    "\n",
    "# libellés des axes\n",
    "ax.set_xlabel('x')\n",
    "ax.set_ylabel('y')\n",
    "ax.set_zlabel('z')\n",
    "\n",
    "# titre\n",
    "ax.set_title('Tracé de vecteurs')\n",
    "\n",
    "# on trace un point. Le symbole * sert à dépaqueter l’array M en 3 arguments comme attendu par scatter() et text()\n",
    "ax.scatter(*M, c='black') \n",
    "ax.text(*M*1.1, 'M')\n",
    "\n",
    "\n",
    "def plot_vector(u, v, c, text):\n",
    "    \"\"\"Fonction qui trace un segment entre les coordonnées u et v, avec la couleur c\n",
    "    et le texte text proche des coordonnées v\"\"\"\n",
    "    xs = u[0], v[0]\n",
    "    ys = u[1], v[1]\n",
    "    zs = u[2], v[2]\n",
    "    ax.plot(xs, ys, zs, c=c)\n",
    "    ax.text(*v*1.2, text)\n",
    "    \n",
    "\n",
    "\n",
    "plot_vector(M, A, c='red', text='A')\n",
    "plot_vector(M, B, c='blue', text='B')\n",
    "plot_vector(M, C, c='green', text='C')\n",
    "\n",
    "def plot_axis():\n",
    "    \"\"\"Fonction qui trace les 3 axes x, y, z et marque l'origine.\"\"\"\n",
    "    L = 8\n",
    "    \n",
    "    x = [[-L, L], [0, 0], [0, 0]]\n",
    "    y = [[0, 0], [-L, L], [0, 0]]\n",
    "    z = [[0, 0], [0, 0], [-L, L]]\n",
    "    \n",
    "    axes = (x,y, z)\n",
    "    labels = ['x', 'y', 'z']\n",
    "    \n",
    "    # on itère sur les axes et leurs libellés conjointement grâce à zip\n",
    "    for axe, label in zip(axes, labels):\n",
    "        ax.plot(*axe, c='black', label=label)\n",
    "        # ici on fait une liste des 2nd éléments de chaque coordonnée pour écrire le libellé\n",
    "        ax.text(*[coord[1] * 1.12 for coord in axe], label)\n",
    "        \n",
    "    # on marque l'origine\n",
    "    O = np.array([0, 0, 0])\n",
    "    ax.text(*O+0.5, '0')\n",
    "\n",
    "    \n",
    "plot_axis()\n"
   ]
  },
  {
   "cell_type": "markdown",
   "id": "8a54adeb",
   "metadata": {},
   "source": [
    "## 4.2.2 Continuité : lien avec la continuité partielle"
   ]
  },
  {
   "cell_type": "code",
   "execution_count": null,
   "id": "a8db225e",
   "metadata": {},
   "outputs": [],
   "source": [
    "import matplotlib.pyplot as plt\n",
    "import numpy as np"
   ]
  },
  {
   "cell_type": "code",
   "execution_count": null,
   "id": "60411fb9",
   "metadata": {},
   "outputs": [],
   "source": [
    "x = np.linspace(-2, 2, 100)\n",
    "y = np.linspace(-2, 2, 100)\n",
    "X, Y = np.meshgrid(x, y)"
   ]
  },
  {
   "cell_type": "code",
   "execution_count": null,
   "id": "5392ee7e",
   "metadata": {},
   "outputs": [],
   "source": [
    "Z = X*Y / (X**2 + Y**2)"
   ]
  },
  {
   "cell_type": "code",
   "execution_count": null,
   "id": "b563b673",
   "metadata": {},
   "outputs": [],
   "source": [
    "fig, ax = plt.subplots(figsize=(8,8), subplot_kw={\"projection\": \"3d\"})\n",
    "ax.plot_surface(X, Y, Z)\n",
    "ax.set_title(r\"$xy / x^2+y^2$\")\n",
    "ax.set_xlabel(\"x\")\n",
    "ax.set_ylabel(\"y\")\n",
    "ax.set_zlabel(\"z\");"
   ]
  },
  {
   "cell_type": "markdown",
   "id": "132bdac4",
   "metadata": {},
   "source": [
    "## 4.8.4 Calcul des dérivées partielles sous Matlab®"
   ]
  },
  {
   "cell_type": "code",
   "execution_count": null,
   "id": "d2e4cc63",
   "metadata": {},
   "outputs": [],
   "source": [
    "import sympy as sp"
   ]
  },
  {
   "cell_type": "code",
   "execution_count": null,
   "id": "12880e3b",
   "metadata": {},
   "outputs": [],
   "source": [
    "x, y, a = sp.symbols(\"x, y, a\")\n",
    "f = 1 / sp.sin(x + a*y)"
   ]
  },
  {
   "cell_type": "code",
   "execution_count": null,
   "id": "f529d49b",
   "metadata": {},
   "outputs": [],
   "source": [
    "f"
   ]
  },
  {
   "cell_type": "code",
   "execution_count": null,
   "id": "bc747c6d",
   "metadata": {},
   "outputs": [],
   "source": [
    "f.diff(x)"
   ]
  },
  {
   "cell_type": "code",
   "execution_count": null,
   "id": "62fe98b2",
   "metadata": {},
   "outputs": [],
   "source": [
    "f.diff(y)"
   ]
  }
 ],
 "metadata": {
  "kernelspec": {
   "display_name": "Python 3 (ipykernel)",
   "language": "python",
   "name": "python3"
  },
  "language_info": {
   "codemirror_mode": {
    "name": "ipython",
    "version": 3
   },
   "file_extension": ".py",
   "mimetype": "text/x-python",
   "name": "python",
   "nbconvert_exporter": "python",
   "pygments_lexer": "ipython3",
   "version": "3.10.4"
  },
  "toc": {
   "base_numbering": 1,
   "nav_menu": {},
   "number_sections": false,
   "sideBar": true,
   "skip_h1_title": true,
   "title_cell": "Table of Contents",
   "title_sidebar": "Contents",
   "toc_cell": false,
   "toc_position": {},
   "toc_section_display": true,
   "toc_window_display": true
  }
 },
 "nbformat": 4,
 "nbformat_minor": 5
}
