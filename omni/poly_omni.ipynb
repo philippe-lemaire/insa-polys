{
 "cells": [
  {
   "cell_type": "markdown",
   "id": "e8c407d1-e877-461e-9bdc-cb84d232b1ec",
   "metadata": {},
   "source": [
    "# Conversion Matlab > Python du code dans le polycopié OMNI 2022-2023"
   ]
  },
  {
   "cell_type": "markdown",
   "id": "13c08c7c-d142-4fbf-a37c-942052ed00af",
   "metadata": {},
   "source": [
    "## Chapitre 2. Produits scalaire, vectoriel et mixte"
   ]
  },
  {
   "cell_type": "markdown",
   "id": "cce27b8b-aa3b-43da-b5eb-1e0d7cc65b21",
   "metadata": {},
   "source": [
    "### 2.6 Vecteurs sous Matlab® et GeoGebra®"
   ]
  },
  {
   "cell_type": "markdown",
   "id": "52829290-fc2f-4b6f-a352-22404ac3b849",
   "metadata": {},
   "source": [
    "Produit scalaire"
   ]
  },
  {
   "cell_type": "code",
   "execution_count": null,
   "id": "7c62c842-b541-448b-9c3f-362c26c8ffbf",
   "metadata": {},
   "outputs": [],
   "source": [
    "import numpy as np"
   ]
  },
  {
   "cell_type": "code",
   "execution_count": null,
   "id": "740da59b-daf7-45a5-abc9-301dc59218ad",
   "metadata": {},
   "outputs": [],
   "source": [
    "A = np.array([4, -1, 2])\n",
    "B = np.array([2, -2, -1])\n",
    "print(A @ B)"
   ]
  },
  {
   "cell_type": "markdown",
   "id": "a4bad3e4-5e92-4120-8635-69d2a6074e6c",
   "metadata": {},
   "source": [
    "Produit vectoriel"
   ]
  },
  {
   "cell_type": "code",
   "execution_count": null,
   "id": "6f68a9cd-0508-4af6-8663-5a68c152d2c0",
   "metadata": {},
   "outputs": [],
   "source": [
    "A = np.array([4, -1, 2])\n",
    "B = np.array([2, -2, -1])\n",
    "print(np.cross(A, B))"
   ]
  },
  {
   "cell_type": "markdown",
   "id": "db4f8c67-c039-405e-9165-205974171841",
   "metadata": {},
   "source": [
    "Norme"
   ]
  },
  {
   "cell_type": "code",
   "execution_count": null,
   "id": "1033a4ce-6321-4616-9ea0-d6b73d6bb037",
   "metadata": {},
   "outputs": [],
   "source": [
    "np.linalg.norm([4, -1, 2])"
   ]
  },
  {
   "cell_type": "markdown",
   "id": "53745528-0a4c-4dcd-b9f1-7b10e8344180",
   "metadata": {},
   "source": [
    "Tracés de vecteurs avec `numpy` et `matplotlib`"
   ]
  },
  {
   "cell_type": "code",
   "execution_count": null,
   "id": "86e208c7",
   "metadata": {},
   "outputs": [],
   "source": [
    "%matplotlib notebook"
   ]
  },
  {
   "cell_type": "code",
   "execution_count": null,
   "id": "818c73d3-8e4a-42d1-9159-9f21fb409757",
   "metadata": {},
   "outputs": [],
   "source": [
    "import numpy as np\n",
    "import matplotlib.pyplot as plt\n",
    "\n",
    "A = np.array([4, -1, 2]) # vecteur A\n",
    "B = np.array([2, -2, -1]) # veteur B\n",
    "C = np.cross(A, B) # vecteur C\n",
    "M = np.array([2, -2, 3]) # point M\n",
    "\n",
    "# création du graphe en 3D\n",
    "fig, ax = plt.subplots(figsize=(8,8), subplot_kw={'projection': '3d'})\n",
    "\n",
    "# valeur min et max pour nos axes\n",
    "limits = (-5, 10) \n",
    "ax.set_xlim(limits)\n",
    "ax.set_ylim(limits)\n",
    "ax.set_zlim(limits)\n",
    "\n",
    "# libellés des axes\n",
    "ax.set_xlabel('x')\n",
    "ax.set_ylabel('y')\n",
    "ax.set_zlabel('z')\n",
    "\n",
    "# titre\n",
    "ax.set_title('Tracé de vecteurs')\n",
    "\n",
    "# on trace un point. Le symbole * sert à dépaqueter l’array M en 3 arguments comme attendu par scatter() et text()\n",
    "ax.scatter(*M, c='black') \n",
    "ax.text(*M*1.1, 'M')\n",
    "\n",
    "\n",
    "def plot_vector(u, v, c, text):\n",
    "    \"\"\"Fonction qui trace un segment entre les coordonnées u et v, avec la couleur c\n",
    "    et le texte text proche des coordonnées v\"\"\"\n",
    "    xs = u[0], v[0]\n",
    "    ys = u[1], v[1]\n",
    "    zs = u[2], v[2]\n",
    "    ax.plot(xs, ys, zs, c=c)\n",
    "    ax.text(*v*1.2, text)\n",
    "    \n",
    "\n",
    "\n",
    "plot_vector(M, A, c='red', text='A')\n",
    "plot_vector(M, B, c='blue', text='B')\n",
    "plot_vector(M, C, c='green', text='C')\n",
    "\n",
    "def plot_axis():\n",
    "    \"\"\"Fonction qui trace les 3 axes x, y, z et marque l'origine.\"\"\"\n",
    "    L = 8\n",
    "    \n",
    "    x = [[-L, L], [0, 0], [0, 0]]\n",
    "    y = [[0, 0], [-L, L], [0, 0]]\n",
    "    z = [[0, 0], [0, 0], [-L, L]]\n",
    "    \n",
    "    axes = (x,y, z)\n",
    "    labels = ['x', 'y', 'z']\n",
    "    \n",
    "    # on itère sur les axes et leurs libellés conjointement grâce à zip\n",
    "    for axe, label in zip(axes, labels):\n",
    "        ax.plot(*axe, c='black', label=label)\n",
    "        # ici on fait une liste des 2nd éléments de chaque coordonnée pour écrire le libellé\n",
    "        ax.text(*[coord[1] * 1.12 for coord in axe], label)\n",
    "        \n",
    "    # on marque l'origine\n",
    "    O = np.array([0, 0, 0])\n",
    "    ax.text(*O+0.5, '0')\n",
    "\n",
    "    \n",
    "plot_axis()\n"
   ]
  },
  {
   "cell_type": "markdown",
   "id": "7f1eecd1",
   "metadata": {},
   "source": [
    "## 4.2.2 Continuité : lien avec la continuité partielle"
   ]
  },
  {
   "cell_type": "code",
   "execution_count": null,
   "id": "89b71a7c",
   "metadata": {},
   "outputs": [],
   "source": [
    "import matplotlib.pyplot as plt\n",
    "import numpy as np"
   ]
  },
  {
   "cell_type": "code",
   "execution_count": null,
   "id": "e80444ce",
   "metadata": {},
   "outputs": [],
   "source": [
    "x = np.linspace(-2, 2, 100)\n",
    "y = np.linspace(-2, 2, 100)\n",
    "X, Y = np.meshgrid(x, y)"
   ]
  },
  {
   "cell_type": "code",
   "execution_count": null,
   "id": "55b08a94",
   "metadata": {},
   "outputs": [],
   "source": [
    "Z = X*Y / (X**2 + Y**2)"
   ]
  },
  {
   "cell_type": "code",
   "execution_count": null,
   "id": "b2540d84",
   "metadata": {},
   "outputs": [],
   "source": [
    "fig, ax = plt.subplots(figsize=(8,8), subplot_kw={\"projection\": \"3d\"})\n",
    "ax.plot_surface(X, Y, Z)\n",
    "ax.set_title(r\"$xy / x^2+y^2$\") # titre du graphe, en LaTeX\n",
    "ax.set_xlabel(\"x\")\n",
    "ax.set_ylabel(\"y\")\n",
    "ax.set_zlabel(\"z\");"
   ]
  },
  {
   "cell_type": "markdown",
   "id": "fe8bfcad",
   "metadata": {},
   "source": [
    "## 4.8.4 Calcul des dérivées partielles sous Matlab®"
   ]
  },
  {
   "cell_type": "code",
   "execution_count": null,
   "id": "5c7e65d3",
   "metadata": {},
   "outputs": [],
   "source": [
    "import sympy as sp"
   ]
  },
  {
   "cell_type": "code",
   "execution_count": null,
   "id": "a4999ad9",
   "metadata": {},
   "outputs": [],
   "source": [
    "x, y, a = sp.symbols(\"x, y, a\")\n",
    "f = 1 / sp.sin(x + a*y)"
   ]
  },
  {
   "cell_type": "code",
   "execution_count": null,
   "id": "c78d9e39",
   "metadata": {},
   "outputs": [],
   "source": [
    "f"
   ]
  },
  {
   "cell_type": "code",
   "execution_count": null,
   "id": "36f2e867",
   "metadata": {},
   "outputs": [],
   "source": [
    "f.diff(x)"
   ]
  },
  {
   "cell_type": "code",
   "execution_count": null,
   "id": "8d5aa11c",
   "metadata": {},
   "outputs": [],
   "source": [
    "f.diff(y)"
   ]
  },
  {
   "cell_type": "markdown",
   "id": "968116f3-f4b6-45ef-a2a2-f2b21d4a660b",
   "metadata": {},
   "source": [
    "## 5.1.1 Lien geogebra dans moodle > on le remplace par quoi ?"
   ]
  },
  {
   "cell_type": "markdown",
   "id": "d8680afc-a710-49a3-839c-7638a43e41a5",
   "metadata": {},
   "source": [
    "## 5.3.2 Lien geogebra dans moodle > on le remplace par quoi ?"
   ]
  },
  {
   "cell_type": "markdown",
   "id": "1be3ce7c-0117-452a-bcc6-60c0aa2673b4",
   "metadata": {},
   "source": [
    "## 5.3.4 Lien geogebra dans moodle > on le remplace par quoi ?"
   ]
  },
  {
   "cell_type": "code",
   "execution_count": null,
   "id": "778dfa75-2daf-495a-9fa8-e77f8adfb054",
   "metadata": {},
   "outputs": [],
   "source": []
  },
  {
   "cell_type": "markdown",
   "id": "8602b907-4c01-4032-9831-23683ad9f314",
   "metadata": {},
   "source": [
    "## 6.5.1 Calcul formel des intégrales"
   ]
  },
  {
   "cell_type": "code",
   "execution_count": null,
   "id": "d15e788b-22d0-4c12-a472-8778a48d5bd2",
   "metadata": {},
   "outputs": [],
   "source": [
    "import sympy as sp"
   ]
  },
  {
   "cell_type": "code",
   "execution_count": null,
   "id": "027d6944-ba60-4c7a-a383-8943fed5c81f",
   "metadata": {},
   "outputs": [],
   "source": [
    "x, y = sp.symbols('x y') # on crée les deux symboles x et y"
   ]
  },
  {
   "cell_type": "code",
   "execution_count": null,
   "id": "ca117731-2732-4868-9e2f-7f436f00f39f",
   "metadata": {},
   "outputs": [],
   "source": [
    "I = sp.Integral(\n",
    "            sp.Integral(y, (y, 0, sp.sqrt(1-x**2))), # intégrale pour y entre 0 et racine de (1-x²)\n",
    "            (x, -1, 1) # les bornes pour x\n",
    ")\n",
    "I # on affiche I"
   ]
  },
  {
   "cell_type": "code",
   "execution_count": null,
   "id": "7745c17d-df1c-4c9c-9327-70ffa9cc2327",
   "metadata": {},
   "outputs": [],
   "source": [
    "I.doit() # on exécute le calcul avec la méthode doit()"
   ]
  },
  {
   "cell_type": "markdown",
   "id": "c076e85e-64c6-4310-ba0f-365a07816ffb",
   "metadata": {},
   "source": [
    "## 6.5.2 Calcul numérique des intégrales, méthode de Riemann\n",
    "\n",
    "Ici il faudra refondre le laïus sur matlab"
   ]
  },
  {
   "cell_type": "markdown",
   "id": "dc7163ff-4e89-4497-9bbd-6bdb53e02176",
   "metadata": {},
   "source": [
    "Listing 6.2 intégration d'abord selon x"
   ]
  },
  {
   "cell_type": "code",
   "execution_count": null,
   "id": "54c64d7c-9ce0-4237-8dc3-36632f633f3a",
   "metadata": {},
   "outputs": [],
   "source": [
    "# OMSI 27 avril 2018\n",
    "# intégration selon x, puis y\n",
    "# calcul exact : 0.125\n",
    "\n",
    "dx = 1e-4\n",
    "dy = 1e-4\n",
    "\n",
    "s = 0\n",
    "y = 0\n",
    "\n",
    "while y <= 1:\n",
    "    x = y\n",
    "    while x <= 1:\n",
    "        s = s + x*y*dx*dy\n",
    "        x = x + dx\n",
    "    y = y + dy\n",
    "print(f\"Résultat : {s}. Pour comparaison, calcul exact : 0.125\")\n",
    "        "
   ]
  },
  {
   "cell_type": "markdown",
   "id": "d00d1728-ad2a-4025-a118-615ce314df05",
   "metadata": {},
   "source": [
    "Listing 6.3 - intégration d'abord selon y"
   ]
  },
  {
   "cell_type": "code",
   "execution_count": null,
   "id": "339f0cdd-d915-482b-b895-a58309f90c6b",
   "metadata": {},
   "outputs": [],
   "source": [
    "# OMSI 27 avril 2018\n",
    "# intégration selon y, puis x\n",
    "# calcul exact : 0.125\n",
    "\n",
    "dx = 1e-4\n",
    "dy = 1e-4\n",
    "\n",
    "x = 0\n",
    "s = 0\n",
    "\n",
    "\n",
    "while x <= 1:\n",
    "    y = 0\n",
    "    while y <= x:\n",
    "        s = s + x*y*dx*dy\n",
    "        y = y + dy\n",
    "    x = x + dx\n",
    "print(f\"Résultat : {s}. Pour comparaison, calcul exact : 0.125\")"
   ]
  },
  {
   "cell_type": "markdown",
   "id": "3d9af484-5f73-40e1-b417-ac921dae613f",
   "metadata": {},
   "source": [
    "Listing 6.4 - Intégrale de Gauss par la méthode de Riemann"
   ]
  },
  {
   "cell_type": "code",
   "execution_count": null,
   "id": "87871afd-a2d1-4508-a0c4-d876300da573",
   "metadata": {},
   "outputs": [],
   "source": [
    "from math import exp, sqrt, pi\n",
    "\n",
    "alpha = 1\n",
    "dx = 1e-2\n",
    "borne_inf = -1e5 # c'est pas moins l'infini, mais\n",
    "borne_sup = 1e5 # mais c'est mieux que rien\n",
    "s = 0\n",
    "x = borne_inf\n",
    "while x <= borne_sup:\n",
    "    s = s + exp(-alpha*(x**2))*dx\n",
    "    x = x + dx"
   ]
  },
  {
   "cell_type": "code",
   "execution_count": null,
   "id": "14ad3a4f-bc07-4d15-bc0a-254d69910f76",
   "metadata": {},
   "outputs": [],
   "source": [
    "print(f\"Résultat : {s}\")\n",
    "print(f\"Résultat attendu racine(pi/alpha) : {sqrt(pi/alpha)}\")"
   ]
  },
  {
   "cell_type": "markdown",
   "id": "d01a8213-c812-498e-bc32-f6fe7b1ae6d2",
   "metadata": {},
   "source": [
    "Listing 6.5 - Intégrale de Gauss en calcul symbolique"
   ]
  },
  {
   "cell_type": "code",
   "execution_count": null,
   "id": "4e89a572-d432-461f-92b7-ba297fa5e01f",
   "metadata": {},
   "outputs": [],
   "source": [
    "from sympy import *\n",
    "x = symbols('x')  # création du symbole x\n",
    "alpha = symbols('alpha', positive=True) # création du symbole alpha, qu'on suppose positif\n",
    "f = exp(-alpha * x**2)\n",
    "f"
   ]
  },
  {
   "cell_type": "code",
   "execution_count": null,
   "id": "8593cb31-7e58-42b1-88ed-e9d1aaa69f08",
   "metadata": {},
   "outputs": [],
   "source": [
    "integrate(f, (x, -oo, oo)) # on intègre f selon x de moins l'infini à plus l'infini"
   ]
  },
  {
   "cell_type": "markdown",
   "id": "2e17d12e-08ec-4496-b4d4-8d4f29fc5e99",
   "metadata": {},
   "source": [
    "## 7.5 Champs de scalaires et de vecteurs sous Matlab® (non Python)"
   ]
  },
  {
   "cell_type": "code",
   "execution_count": null,
   "id": "2afd443e",
   "metadata": {},
   "outputs": [],
   "source": [
    "%matplotlib inline"
   ]
  },
  {
   "cell_type": "code",
   "execution_count": null,
   "id": "9992fc46-f1c5-4e14-8b30-4e754b7181ac",
   "metadata": {},
   "outputs": [],
   "source": [
    "# Potentiel de champ créés par un dipôle\n",
    "\n",
    "import numpy as np\n",
    "import matplotlib.pyplot as plt\n",
    "\n",
    "epsilon0 = 8.8500e-12 # permittivité du vide\n",
    "q=1e-6 # charge en Coulomb\n",
    "K = q/(4*np.pi*epsilon0)\n",
    "a = 4e-2 # distance en m entre les deux charges = 2a\n",
    "\n",
    "\n",
    "x = np.linspace(-0.1, 0.1, 100)\n",
    "y = np.linspace(-0.1, 0.1, 100)\n",
    "\n",
    "X, Y = np.meshgrid(x, y)\n",
    "\n",
    "Z = K * (-((X+a)**2 + Y**2)**-0.5 + ((X-a)**2 +Y**2)**-0.5)\n",
    "\n",
    "fig, ax = plt.subplots(figsize=(12, 10))\n",
    "\n",
    "# on trace les courbes de niveau\n",
    "CS = ax.contourf(X, Y, Z, levels= np.linspace(-1e6, 1e6, 40), cmap='Purples')\n",
    "\n",
    "# On crée un nuancier pour le ContourSet renvoyé par ax.contourf()\n",
    "cbar = fig.colorbar(CS)\n",
    "cbar.ax.set_ylabel('V')\n",
    "\n",
    "# on règle les graduations\n",
    "ticks = np.linspace(-0.1, 0.1, 5)\n",
    "ax.set_xticks(ticks)\n",
    "ax.set_yticks(ticks)\n",
    "\n",
    "# on trace 2 points pour matérialiser la position des charges\n",
    "ax.scatter(x=(-a, a), y=(0,0), c='black')\n",
    "\n",
    "\n",
    "# titre\n",
    "ax.set_title(\"Équipotentielles et lignes de champ d’un dipôle\")\n",
    "\n",
    "# maintenant on va tracer le champ\n",
    "\n",
    "x = np.linspace(-0.1, 0.1, 20)\n",
    "y = np.linspace(-0.1, 0.1, 20)\n",
    "X, Y = np.meshgrid(x, y)\n",
    "\n",
    "Ex = -K *((X+a) * ((X+a)**2 + Y**2)**-1.5 - (X-a) * ((X-a)**2 +Y**2)**-1.5)\n",
    "Ey = -K*(Y*((X+a)**2 +Y**2)**-1.5-Y*((X-a)**2 +Y**2)**-1.5)\n",
    "\n",
    "\n",
    "\n",
    "ax.streamplot(x, y, Ex, Ey, \n",
    "              density=1,\n",
    "             )\n",
    "\n",
    "\n",
    "\n",
    "\n",
    "\n",
    "None"
   ]
  },
  {
   "cell_type": "code",
   "execution_count": null,
   "id": "b1fa1a1c-5014-459a-834d-50b8900386ee",
   "metadata": {},
   "outputs": [],
   "source": []
  }
 ],
 "metadata": {
  "kernelspec": {
   "display_name": "Python 3 (ipykernel)",
   "language": "python",
   "name": "python3"
  },
  "language_info": {
   "codemirror_mode": {
    "name": "ipython",
    "version": 3
   },
   "file_extension": ".py",
   "mimetype": "text/x-python",
   "name": "python",
   "nbconvert_exporter": "python",
   "pygments_lexer": "ipython3",
   "version": "3.10.4"
  },
  "toc": {
   "base_numbering": 1,
   "nav_menu": {},
   "number_sections": false,
   "sideBar": true,
   "skip_h1_title": true,
   "title_cell": "Table of Contents",
   "title_sidebar": "Contents",
   "toc_cell": false,
   "toc_position": {},
   "toc_section_display": true,
   "toc_window_display": true
  }
 },
 "nbformat": 4,
 "nbformat_minor": 5
}
